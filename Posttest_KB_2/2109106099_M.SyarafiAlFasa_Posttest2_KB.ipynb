{
 "cells": [
  {
   "cell_type": "markdown",
   "metadata": {},
   "source": [
    "Mengimport library pandas"
   ]
  },
  {
   "cell_type": "code",
   "execution_count": 1,
   "metadata": {},
   "outputs": [],
   "source": [
    "import pandas as pd"
   ]
  },
  {
   "cell_type": "markdown",
   "metadata": {},
   "source": [
    "Membaca dataset csv dan memasukkan ke dalam variabel dataset"
   ]
  },
  {
   "cell_type": "code",
   "execution_count": 2,
   "metadata": {},
   "outputs": [],
   "source": [
    "dataset = pd.read_csv('Airlines.csv')"
   ]
  },
  {
   "cell_type": "markdown",
   "metadata": {},
   "source": [
    "Tampilkan rata-rata, standar deviasi, nilai minimum, nilai maksimum, Q1, Q2, dan Q3 dari attribute bertipe angka."
   ]
  },
  {
   "cell_type": "code",
   "execution_count": 3,
   "metadata": {},
   "outputs": [
    {
     "data": {
      "text/html": [
       "<div>\n",
       "<style scoped>\n",
       "    .dataframe tbody tr th:only-of-type {\n",
       "        vertical-align: middle;\n",
       "    }\n",
       "\n",
       "    .dataframe tbody tr th {\n",
       "        vertical-align: top;\n",
       "    }\n",
       "\n",
       "    .dataframe thead th {\n",
       "        text-align: right;\n",
       "    }\n",
       "</style>\n",
       "<table border=\"1\" class=\"dataframe\">\n",
       "  <thead>\n",
       "    <tr style=\"text-align: right;\">\n",
       "      <th></th>\n",
       "      <th>id</th>\n",
       "      <th>Flight</th>\n",
       "      <th>DayOfWeek</th>\n",
       "      <th>Time</th>\n",
       "      <th>Length</th>\n",
       "      <th>Delay</th>\n",
       "    </tr>\n",
       "  </thead>\n",
       "  <tbody>\n",
       "    <tr>\n",
       "      <th>count</th>\n",
       "      <td>539383.000000</td>\n",
       "      <td>539383.000000</td>\n",
       "      <td>539383.000000</td>\n",
       "      <td>539383.000000</td>\n",
       "      <td>539383.000000</td>\n",
       "      <td>539383.000000</td>\n",
       "    </tr>\n",
       "    <tr>\n",
       "      <th>mean</th>\n",
       "      <td>269692.000000</td>\n",
       "      <td>2427.928630</td>\n",
       "      <td>3.929668</td>\n",
       "      <td>802.728963</td>\n",
       "      <td>132.202007</td>\n",
       "      <td>0.445442</td>\n",
       "    </tr>\n",
       "    <tr>\n",
       "      <th>std</th>\n",
       "      <td>155706.604461</td>\n",
       "      <td>2067.429837</td>\n",
       "      <td>1.914664</td>\n",
       "      <td>278.045911</td>\n",
       "      <td>70.117016</td>\n",
       "      <td>0.497015</td>\n",
       "    </tr>\n",
       "    <tr>\n",
       "      <th>min</th>\n",
       "      <td>1.000000</td>\n",
       "      <td>1.000000</td>\n",
       "      <td>1.000000</td>\n",
       "      <td>10.000000</td>\n",
       "      <td>0.000000</td>\n",
       "      <td>0.000000</td>\n",
       "    </tr>\n",
       "    <tr>\n",
       "      <th>25%</th>\n",
       "      <td>134846.500000</td>\n",
       "      <td>712.000000</td>\n",
       "      <td>2.000000</td>\n",
       "      <td>565.000000</td>\n",
       "      <td>81.000000</td>\n",
       "      <td>0.000000</td>\n",
       "    </tr>\n",
       "    <tr>\n",
       "      <th>50%</th>\n",
       "      <td>269692.000000</td>\n",
       "      <td>1809.000000</td>\n",
       "      <td>4.000000</td>\n",
       "      <td>795.000000</td>\n",
       "      <td>115.000000</td>\n",
       "      <td>0.000000</td>\n",
       "    </tr>\n",
       "    <tr>\n",
       "      <th>75%</th>\n",
       "      <td>404537.500000</td>\n",
       "      <td>3745.000000</td>\n",
       "      <td>5.000000</td>\n",
       "      <td>1035.000000</td>\n",
       "      <td>162.000000</td>\n",
       "      <td>1.000000</td>\n",
       "    </tr>\n",
       "    <tr>\n",
       "      <th>max</th>\n",
       "      <td>539383.000000</td>\n",
       "      <td>7814.000000</td>\n",
       "      <td>7.000000</td>\n",
       "      <td>1439.000000</td>\n",
       "      <td>655.000000</td>\n",
       "      <td>1.000000</td>\n",
       "    </tr>\n",
       "  </tbody>\n",
       "</table>\n",
       "</div>"
      ],
      "text/plain": [
       "                  id         Flight      DayOfWeek           Time  \\\n",
       "count  539383.000000  539383.000000  539383.000000  539383.000000   \n",
       "mean   269692.000000    2427.928630       3.929668     802.728963   \n",
       "std    155706.604461    2067.429837       1.914664     278.045911   \n",
       "min         1.000000       1.000000       1.000000      10.000000   \n",
       "25%    134846.500000     712.000000       2.000000     565.000000   \n",
       "50%    269692.000000    1809.000000       4.000000     795.000000   \n",
       "75%    404537.500000    3745.000000       5.000000    1035.000000   \n",
       "max    539383.000000    7814.000000       7.000000    1439.000000   \n",
       "\n",
       "              Length          Delay  \n",
       "count  539383.000000  539383.000000  \n",
       "mean      132.202007       0.445442  \n",
       "std        70.117016       0.497015  \n",
       "min         0.000000       0.000000  \n",
       "25%        81.000000       0.000000  \n",
       "50%       115.000000       0.000000  \n",
       "75%       162.000000       1.000000  \n",
       "max       655.000000       1.000000  "
      ]
     },
     "execution_count": 3,
     "metadata": {},
     "output_type": "execute_result"
    }
   ],
   "source": [
    "dataset.describe()"
   ]
  },
  {
   "cell_type": "markdown",
   "metadata": {},
   "source": [
    "Tampilkan 10 record pertama dari dataset dengan attribute bertipe angka."
   ]
  },
  {
   "cell_type": "markdown",
   "metadata": {},
   "source": [
    "Pertama memilah isi dataset dengan hanya menampilkan tipe data number"
   ]
  },
  {
   "cell_type": "code",
   "execution_count": 4,
   "metadata": {},
   "outputs": [],
   "source": [
    "datasetangka = dataset.select_dtypes(include=['number'])"
   ]
  },
  {
   "cell_type": "markdown",
   "metadata": {},
   "source": [
    "Kedua, tampilkan 10 record pertama dari dataset dengan attribute bertipe angka."
   ]
  },
  {
   "cell_type": "code",
   "execution_count": 5,
   "metadata": {},
   "outputs": [
    {
     "data": {
      "text/html": [
       "<div>\n",
       "<style scoped>\n",
       "    .dataframe tbody tr th:only-of-type {\n",
       "        vertical-align: middle;\n",
       "    }\n",
       "\n",
       "    .dataframe tbody tr th {\n",
       "        vertical-align: top;\n",
       "    }\n",
       "\n",
       "    .dataframe thead th {\n",
       "        text-align: right;\n",
       "    }\n",
       "</style>\n",
       "<table border=\"1\" class=\"dataframe\">\n",
       "  <thead>\n",
       "    <tr style=\"text-align: right;\">\n",
       "      <th></th>\n",
       "      <th>id</th>\n",
       "      <th>Flight</th>\n",
       "      <th>DayOfWeek</th>\n",
       "      <th>Time</th>\n",
       "      <th>Length</th>\n",
       "      <th>Delay</th>\n",
       "    </tr>\n",
       "  </thead>\n",
       "  <tbody>\n",
       "    <tr>\n",
       "      <th>0</th>\n",
       "      <td>1</td>\n",
       "      <td>269</td>\n",
       "      <td>3</td>\n",
       "      <td>15</td>\n",
       "      <td>205</td>\n",
       "      <td>1</td>\n",
       "    </tr>\n",
       "    <tr>\n",
       "      <th>1</th>\n",
       "      <td>2</td>\n",
       "      <td>1558</td>\n",
       "      <td>3</td>\n",
       "      <td>15</td>\n",
       "      <td>222</td>\n",
       "      <td>1</td>\n",
       "    </tr>\n",
       "    <tr>\n",
       "      <th>2</th>\n",
       "      <td>3</td>\n",
       "      <td>2400</td>\n",
       "      <td>3</td>\n",
       "      <td>20</td>\n",
       "      <td>165</td>\n",
       "      <td>1</td>\n",
       "    </tr>\n",
       "    <tr>\n",
       "      <th>3</th>\n",
       "      <td>4</td>\n",
       "      <td>2466</td>\n",
       "      <td>3</td>\n",
       "      <td>20</td>\n",
       "      <td>195</td>\n",
       "      <td>1</td>\n",
       "    </tr>\n",
       "    <tr>\n",
       "      <th>4</th>\n",
       "      <td>5</td>\n",
       "      <td>108</td>\n",
       "      <td>3</td>\n",
       "      <td>30</td>\n",
       "      <td>202</td>\n",
       "      <td>0</td>\n",
       "    </tr>\n",
       "    <tr>\n",
       "      <th>5</th>\n",
       "      <td>6</td>\n",
       "      <td>1094</td>\n",
       "      <td>3</td>\n",
       "      <td>30</td>\n",
       "      <td>181</td>\n",
       "      <td>1</td>\n",
       "    </tr>\n",
       "    <tr>\n",
       "      <th>6</th>\n",
       "      <td>7</td>\n",
       "      <td>1768</td>\n",
       "      <td>3</td>\n",
       "      <td>30</td>\n",
       "      <td>220</td>\n",
       "      <td>0</td>\n",
       "    </tr>\n",
       "    <tr>\n",
       "      <th>7</th>\n",
       "      <td>8</td>\n",
       "      <td>2722</td>\n",
       "      <td>3</td>\n",
       "      <td>30</td>\n",
       "      <td>228</td>\n",
       "      <td>0</td>\n",
       "    </tr>\n",
       "    <tr>\n",
       "      <th>8</th>\n",
       "      <td>9</td>\n",
       "      <td>2606</td>\n",
       "      <td>3</td>\n",
       "      <td>35</td>\n",
       "      <td>216</td>\n",
       "      <td>1</td>\n",
       "    </tr>\n",
       "    <tr>\n",
       "      <th>9</th>\n",
       "      <td>10</td>\n",
       "      <td>2538</td>\n",
       "      <td>3</td>\n",
       "      <td>40</td>\n",
       "      <td>200</td>\n",
       "      <td>1</td>\n",
       "    </tr>\n",
       "  </tbody>\n",
       "</table>\n",
       "</div>"
      ],
      "text/plain": [
       "   id  Flight  DayOfWeek  Time  Length  Delay\n",
       "0   1     269          3    15     205      1\n",
       "1   2    1558          3    15     222      1\n",
       "2   3    2400          3    20     165      1\n",
       "3   4    2466          3    20     195      1\n",
       "4   5     108          3    30     202      0\n",
       "5   6    1094          3    30     181      1\n",
       "6   7    1768          3    30     220      0\n",
       "7   8    2722          3    30     228      0\n",
       "8   9    2606          3    35     216      1\n",
       "9  10    2538          3    40     200      1"
      ]
     },
     "execution_count": 5,
     "metadata": {},
     "output_type": "execute_result"
    }
   ],
   "source": [
    "datasetangka.head(10)"
   ]
  },
  {
   "cell_type": "markdown",
   "metadata": {},
   "source": [
    "Tampilkan informasi jumlah record, jumlah attribute, nama attribute, jumlah attribute dengan tipe angka. Masukkan informasi tersebut dalam dictionary dengan key sesuai nama informasinya. Tampilkan isi dari dictionary tersebut sebagus mungkin."
   ]
  },
  {
   "cell_type": "markdown",
   "metadata": {},
   "source": [
    "Mengambil jumlah record dan jumlah attribute dari dataset.shape()"
   ]
  },
  {
   "cell_type": "code",
   "execution_count": 31,
   "metadata": {},
   "outputs": [],
   "source": [
    "jumlah_record, jumlah_attribute = dataset.shape"
   ]
  },
  {
   "cell_type": "markdown",
   "metadata": {},
   "source": [
    "Mengambil nama-nama kolom attribute"
   ]
  },
  {
   "cell_type": "code",
   "execution_count": 32,
   "metadata": {},
   "outputs": [],
   "source": [
    "nama_attribute = dataset.columns.tolist()"
   ]
  },
  {
   "cell_type": "markdown",
   "metadata": {},
   "source": [
    "Menghitung jumlah kolom dengan tipe data angka"
   ]
  },
  {
   "cell_type": "code",
   "execution_count": 8,
   "metadata": {},
   "outputs": [],
   "source": [
    "\n",
    "jumlah_attribute_angka = len(dataset.select_dtypes(include=['number']).columns)\n"
   ]
  },
  {
   "cell_type": "markdown",
   "metadata": {},
   "source": [
    "Membuat dictionary dengan informasi yang diperlukan"
   ]
  },
  {
   "cell_type": "code",
   "execution_count": 35,
   "metadata": {},
   "outputs": [],
   "source": [
    "informasi_dataset = {\n",
    "    \"Jumlah Record                      \": jumlah_record,\n",
    "    \"Jumlah Attribute                   \": jumlah_attribute,\n",
    "    \"Nama Attribute                     \": nama_attribute,\n",
    "    \"Jumlah Attribute dengan Tipe Angka \": jumlah_attribute_angka\n",
    "}"
   ]
  },
  {
   "cell_type": "markdown",
   "metadata": {},
   "source": [
    "Menampilkan isi dictionary"
   ]
  },
  {
   "cell_type": "code",
   "execution_count": 36,
   "metadata": {},
   "outputs": [
    {
     "name": "stdout",
     "output_type": "stream",
     "text": [
      "Jumlah Record                      : 539383\n",
      "Jumlah Attribute                   : 9\n",
      "Nama Attribute                     : ['id', 'Airline', 'Flight', 'AirportFrom', 'AirportTo', 'DayOfWeek', 'Time', 'Length', 'Delay']\n",
      "Jumlah Attribute dengan Tipe Angka : 6\n"
     ]
    }
   ],
   "source": [
    "for key, value in informasi_dataset.items():\n",
    "    print(f\"{key}: {value}\")"
   ]
  },
  {
   "cell_type": "markdown",
   "metadata": {},
   "source": [
    "Tampilkan nilai dataset pada baris dimulai dengan 3 digit NIM akhir hingga data terakhir dan kolom ke 4 hingga kolom terakhir menggunakan ke 2 metode slice."
   ]
  },
  {
   "cell_type": "markdown",
   "metadata": {},
   "source": [
    "NIM 099"
   ]
  },
  {
   "cell_type": "markdown",
   "metadata": {},
   "source": [
    "Menggunakan slicing loc"
   ]
  },
  {
   "cell_type": "code",
   "execution_count": 38,
   "metadata": {},
   "outputs": [
    {
     "data": {
      "text/html": [
       "<div>\n",
       "<style scoped>\n",
       "    .dataframe tbody tr th:only-of-type {\n",
       "        vertical-align: middle;\n",
       "    }\n",
       "\n",
       "    .dataframe tbody tr th {\n",
       "        vertical-align: top;\n",
       "    }\n",
       "\n",
       "    .dataframe thead th {\n",
       "        text-align: right;\n",
       "    }\n",
       "</style>\n",
       "<table border=\"1\" class=\"dataframe\">\n",
       "  <thead>\n",
       "    <tr style=\"text-align: right;\">\n",
       "      <th></th>\n",
       "      <th>AirportFrom</th>\n",
       "      <th>AirportTo</th>\n",
       "      <th>DayOfWeek</th>\n",
       "      <th>Time</th>\n",
       "      <th>Length</th>\n",
       "      <th>Delay</th>\n",
       "    </tr>\n",
       "  </thead>\n",
       "  <tbody>\n",
       "    <tr>\n",
       "      <th>99</th>\n",
       "      <td>BTV</td>\n",
       "      <td>IAD</td>\n",
       "      <td>3</td>\n",
       "      <td>336</td>\n",
       "      <td>110</td>\n",
       "      <td>0</td>\n",
       "    </tr>\n",
       "    <tr>\n",
       "      <th>100</th>\n",
       "      <td>TLH</td>\n",
       "      <td>ATL</td>\n",
       "      <td>3</td>\n",
       "      <td>338</td>\n",
       "      <td>68</td>\n",
       "      <td>0</td>\n",
       "    </tr>\n",
       "    <tr>\n",
       "      <th>101</th>\n",
       "      <td>TYS</td>\n",
       "      <td>ATL</td>\n",
       "      <td>3</td>\n",
       "      <td>340</td>\n",
       "      <td>57</td>\n",
       "      <td>0</td>\n",
       "    </tr>\n",
       "    <tr>\n",
       "      <th>102</th>\n",
       "      <td>DFW</td>\n",
       "      <td>IAH</td>\n",
       "      <td>3</td>\n",
       "      <td>340</td>\n",
       "      <td>59</td>\n",
       "      <td>1</td>\n",
       "    </tr>\n",
       "    <tr>\n",
       "      <th>103</th>\n",
       "      <td>BOS</td>\n",
       "      <td>DTW</td>\n",
       "      <td>3</td>\n",
       "      <td>340</td>\n",
       "      <td>144</td>\n",
       "      <td>0</td>\n",
       "    </tr>\n",
       "    <tr>\n",
       "      <th>...</th>\n",
       "      <td>...</td>\n",
       "      <td>...</td>\n",
       "      <td>...</td>\n",
       "      <td>...</td>\n",
       "      <td>...</td>\n",
       "      <td>...</td>\n",
       "    </tr>\n",
       "    <tr>\n",
       "      <th>539378</th>\n",
       "      <td>OGG</td>\n",
       "      <td>SNA</td>\n",
       "      <td>5</td>\n",
       "      <td>1439</td>\n",
       "      <td>326</td>\n",
       "      <td>0</td>\n",
       "    </tr>\n",
       "    <tr>\n",
       "      <th>539379</th>\n",
       "      <td>SEA</td>\n",
       "      <td>ATL</td>\n",
       "      <td>5</td>\n",
       "      <td>1439</td>\n",
       "      <td>305</td>\n",
       "      <td>0</td>\n",
       "    </tr>\n",
       "    <tr>\n",
       "      <th>539380</th>\n",
       "      <td>SFO</td>\n",
       "      <td>MKE</td>\n",
       "      <td>5</td>\n",
       "      <td>1439</td>\n",
       "      <td>255</td>\n",
       "      <td>0</td>\n",
       "    </tr>\n",
       "    <tr>\n",
       "      <th>539381</th>\n",
       "      <td>HNL</td>\n",
       "      <td>SFO</td>\n",
       "      <td>5</td>\n",
       "      <td>1439</td>\n",
       "      <td>313</td>\n",
       "      <td>1</td>\n",
       "    </tr>\n",
       "    <tr>\n",
       "      <th>539382</th>\n",
       "      <td>LAX</td>\n",
       "      <td>PHL</td>\n",
       "      <td>5</td>\n",
       "      <td>1439</td>\n",
       "      <td>301</td>\n",
       "      <td>1</td>\n",
       "    </tr>\n",
       "  </tbody>\n",
       "</table>\n",
       "<p>539284 rows × 6 columns</p>\n",
       "</div>"
      ],
      "text/plain": [
       "       AirportFrom AirportTo  DayOfWeek  Time  Length  Delay\n",
       "99             BTV       IAD          3   336     110      0\n",
       "100            TLH       ATL          3   338      68      0\n",
       "101            TYS       ATL          3   340      57      0\n",
       "102            DFW       IAH          3   340      59      1\n",
       "103            BOS       DTW          3   340     144      0\n",
       "...            ...       ...        ...   ...     ...    ...\n",
       "539378         OGG       SNA          5  1439     326      0\n",
       "539379         SEA       ATL          5  1439     305      0\n",
       "539380         SFO       MKE          5  1439     255      0\n",
       "539381         HNL       SFO          5  1439     313      1\n",
       "539382         LAX       PHL          5  1439     301      1\n",
       "\n",
       "[539284 rows x 6 columns]"
      ]
     },
     "execution_count": 38,
     "metadata": {},
     "output_type": "execute_result"
    }
   ],
   "source": [
    "\n",
    "dataset.loc[99:, dataset.columns[3]:]"
   ]
  },
  {
   "cell_type": "markdown",
   "metadata": {},
   "source": [
    "Menggunkan slicing iloc"
   ]
  },
  {
   "cell_type": "code",
   "execution_count": 37,
   "metadata": {},
   "outputs": [
    {
     "data": {
      "text/html": [
       "<div>\n",
       "<style scoped>\n",
       "    .dataframe tbody tr th:only-of-type {\n",
       "        vertical-align: middle;\n",
       "    }\n",
       "\n",
       "    .dataframe tbody tr th {\n",
       "        vertical-align: top;\n",
       "    }\n",
       "\n",
       "    .dataframe thead th {\n",
       "        text-align: right;\n",
       "    }\n",
       "</style>\n",
       "<table border=\"1\" class=\"dataframe\">\n",
       "  <thead>\n",
       "    <tr style=\"text-align: right;\">\n",
       "      <th></th>\n",
       "      <th>AirportFrom</th>\n",
       "      <th>AirportTo</th>\n",
       "      <th>DayOfWeek</th>\n",
       "      <th>Time</th>\n",
       "      <th>Length</th>\n",
       "      <th>Delay</th>\n",
       "    </tr>\n",
       "  </thead>\n",
       "  <tbody>\n",
       "    <tr>\n",
       "      <th>99</th>\n",
       "      <td>BTV</td>\n",
       "      <td>IAD</td>\n",
       "      <td>3</td>\n",
       "      <td>336</td>\n",
       "      <td>110</td>\n",
       "      <td>0</td>\n",
       "    </tr>\n",
       "    <tr>\n",
       "      <th>100</th>\n",
       "      <td>TLH</td>\n",
       "      <td>ATL</td>\n",
       "      <td>3</td>\n",
       "      <td>338</td>\n",
       "      <td>68</td>\n",
       "      <td>0</td>\n",
       "    </tr>\n",
       "    <tr>\n",
       "      <th>101</th>\n",
       "      <td>TYS</td>\n",
       "      <td>ATL</td>\n",
       "      <td>3</td>\n",
       "      <td>340</td>\n",
       "      <td>57</td>\n",
       "      <td>0</td>\n",
       "    </tr>\n",
       "    <tr>\n",
       "      <th>102</th>\n",
       "      <td>DFW</td>\n",
       "      <td>IAH</td>\n",
       "      <td>3</td>\n",
       "      <td>340</td>\n",
       "      <td>59</td>\n",
       "      <td>1</td>\n",
       "    </tr>\n",
       "    <tr>\n",
       "      <th>103</th>\n",
       "      <td>BOS</td>\n",
       "      <td>DTW</td>\n",
       "      <td>3</td>\n",
       "      <td>340</td>\n",
       "      <td>144</td>\n",
       "      <td>0</td>\n",
       "    </tr>\n",
       "    <tr>\n",
       "      <th>...</th>\n",
       "      <td>...</td>\n",
       "      <td>...</td>\n",
       "      <td>...</td>\n",
       "      <td>...</td>\n",
       "      <td>...</td>\n",
       "      <td>...</td>\n",
       "    </tr>\n",
       "    <tr>\n",
       "      <th>539378</th>\n",
       "      <td>OGG</td>\n",
       "      <td>SNA</td>\n",
       "      <td>5</td>\n",
       "      <td>1439</td>\n",
       "      <td>326</td>\n",
       "      <td>0</td>\n",
       "    </tr>\n",
       "    <tr>\n",
       "      <th>539379</th>\n",
       "      <td>SEA</td>\n",
       "      <td>ATL</td>\n",
       "      <td>5</td>\n",
       "      <td>1439</td>\n",
       "      <td>305</td>\n",
       "      <td>0</td>\n",
       "    </tr>\n",
       "    <tr>\n",
       "      <th>539380</th>\n",
       "      <td>SFO</td>\n",
       "      <td>MKE</td>\n",
       "      <td>5</td>\n",
       "      <td>1439</td>\n",
       "      <td>255</td>\n",
       "      <td>0</td>\n",
       "    </tr>\n",
       "    <tr>\n",
       "      <th>539381</th>\n",
       "      <td>HNL</td>\n",
       "      <td>SFO</td>\n",
       "      <td>5</td>\n",
       "      <td>1439</td>\n",
       "      <td>313</td>\n",
       "      <td>1</td>\n",
       "    </tr>\n",
       "    <tr>\n",
       "      <th>539382</th>\n",
       "      <td>LAX</td>\n",
       "      <td>PHL</td>\n",
       "      <td>5</td>\n",
       "      <td>1439</td>\n",
       "      <td>301</td>\n",
       "      <td>1</td>\n",
       "    </tr>\n",
       "  </tbody>\n",
       "</table>\n",
       "<p>539284 rows × 6 columns</p>\n",
       "</div>"
      ],
      "text/plain": [
       "       AirportFrom AirportTo  DayOfWeek  Time  Length  Delay\n",
       "99             BTV       IAD          3   336     110      0\n",
       "100            TLH       ATL          3   338      68      0\n",
       "101            TYS       ATL          3   340      57      0\n",
       "102            DFW       IAH          3   340      59      1\n",
       "103            BOS       DTW          3   340     144      0\n",
       "...            ...       ...        ...   ...     ...    ...\n",
       "539378         OGG       SNA          5  1439     326      0\n",
       "539379         SEA       ATL          5  1439     305      0\n",
       "539380         SFO       MKE          5  1439     255      0\n",
       "539381         HNL       SFO          5  1439     313      1\n",
       "539382         LAX       PHL          5  1439     301      1\n",
       "\n",
       "[539284 rows x 6 columns]"
      ]
     },
     "execution_count": 37,
     "metadata": {},
     "output_type": "execute_result"
    }
   ],
   "source": [
    "dataset.iloc[99:, 3:]"
   ]
  },
  {
   "cell_type": "markdown",
   "metadata": {},
   "source": [
    "Tampilkan jumlah label dari semua attribute yang bernilai object (contoh : Jenis Kelamin, Agama)."
   ]
  },
  {
   "cell_type": "markdown",
   "metadata": {},
   "source": [
    "Menampilkan tipe data pada dataset"
   ]
  },
  {
   "cell_type": "code",
   "execution_count": 25,
   "metadata": {},
   "outputs": [
    {
     "data": {
      "text/plain": [
       "id              int64\n",
       "Airline        object\n",
       "Flight          int64\n",
       "AirportFrom    object\n",
       "AirportTo      object\n",
       "DayOfWeek       int64\n",
       "Time            int64\n",
       "Length          int64\n",
       "Delay           int64\n",
       "dtype: object"
      ]
     },
     "execution_count": 25,
     "metadata": {},
     "output_type": "execute_result"
    }
   ],
   "source": [
    "dataset.dtypes"
   ]
  },
  {
   "cell_type": "markdown",
   "metadata": {},
   "source": [
    "Anda dapat mengambil kolom dengan tipe data objek"
   ]
  },
  {
   "cell_type": "code",
   "execution_count": 39,
   "metadata": {},
   "outputs": [],
   "source": [
    "kolom_objek = dataset.select_dtypes(include=['object'])\n"
   ]
  },
  {
   "cell_type": "markdown",
   "metadata": {},
   "source": [
    "Membuat dictionary untuk menyimpan jumlah label unik untuk setiap kolom objek"
   ]
  },
  {
   "cell_type": "code",
   "execution_count": 40,
   "metadata": {},
   "outputs": [],
   "source": [
    "jumlah_label = {}"
   ]
  },
  {
   "cell_type": "markdown",
   "metadata": {},
   "source": [
    "Loop melalui setiap kolom objek dan menghitung jumlah label unik"
   ]
  },
  {
   "cell_type": "code",
   "execution_count": 43,
   "metadata": {},
   "outputs": [],
   "source": [
    "\n",
    "for kolom in kolom_objek.columns:\n",
    "    jumlah_label[kolom] = len(dataset[kolom].unique())"
   ]
  },
  {
   "cell_type": "markdown",
   "metadata": {},
   "source": [
    "Menampilkan jumlah label unik untuk setiap kolom objek"
   ]
  },
  {
   "cell_type": "code",
   "execution_count": 44,
   "metadata": {},
   "outputs": [
    {
     "name": "stdout",
     "output_type": "stream",
     "text": [
      "Airline: 18 label unik\n",
      "AirportFrom: 293 label unik\n",
      "AirportTo: 293 label unik\n"
     ]
    }
   ],
   "source": [
    "for kolom, jumlah in jumlah_label.items():\n",
    "    print(f\"{kolom}: {jumlah} label unik\")"
   ]
  }
 ],
 "metadata": {
  "kernelspec": {
   "display_name": "Python 3",
   "language": "python",
   "name": "python3"
  },
  "language_info": {
   "codemirror_mode": {
    "name": "ipython",
    "version": 3
   },
   "file_extension": ".py",
   "mimetype": "text/x-python",
   "name": "python",
   "nbconvert_exporter": "python",
   "pygments_lexer": "ipython3",
   "version": "3.10.7"
  },
  "orig_nbformat": 4
 },
 "nbformat": 4,
 "nbformat_minor": 2
}
